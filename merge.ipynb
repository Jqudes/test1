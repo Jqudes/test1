{
 "cells": [
  {
   "cell_type": "code",
   "execution_count": 13,
   "metadata": {},
   "outputs": [],
   "source": [
    "import pandas as pd\n",
    "import numpy as np"
   ]
  },
  {
   "cell_type": "code",
   "execution_count": 14,
   "metadata": {},
   "outputs": [
    {
     "name": "stdout",
     "output_type": "stream",
     "text": [
      "    Num   Fruit\n",
      "0   123   Apple\n",
      "1   456  Banana\n",
      "2   789  Cherry\n",
      "3  1011   Lemon\n",
      "4  1112   Peach\n",
      "    Num Grade\n",
      "0   123     A\n",
      "1   789     B\n",
      "2  1314     C\n"
     ]
    }
   ],
   "source": [
    "fruit = pd.DataFrame({'Num':[123, 456, 789, 1011, 1112], 'Fruit':['Apple', 'Banana', 'Cherry', 'Lemon', 'Peach']})\n",
    "grade = pd.DataFrame({'Num':[123, 789, 1314], 'Grade':['A', 'B', 'C']})\n",
    "\n",
    "print(fruit)\n",
    "print(grade)"
   ]
  },
  {
   "cell_type": "code",
   "execution_count": 9,
   "metadata": {},
   "outputs": [
    {
     "data": {
      "text/html": [
       "<div>\n",
       "<style scoped>\n",
       "    .dataframe tbody tr th:only-of-type {\n",
       "        vertical-align: middle;\n",
       "    }\n",
       "\n",
       "    .dataframe tbody tr th {\n",
       "        vertical-align: top;\n",
       "    }\n",
       "\n",
       "    .dataframe thead th {\n",
       "        text-align: right;\n",
       "    }\n",
       "</style>\n",
       "<table border=\"1\" class=\"dataframe\">\n",
       "  <thead>\n",
       "    <tr style=\"text-align: right;\">\n",
       "      <th></th>\n",
       "      <th>Num</th>\n",
       "      <th>Fruit</th>\n",
       "      <th>Grade</th>\n",
       "    </tr>\n",
       "  </thead>\n",
       "  <tbody>\n",
       "    <tr>\n",
       "      <th>0</th>\n",
       "      <td>123</td>\n",
       "      <td>Apple</td>\n",
       "      <td>A</td>\n",
       "    </tr>\n",
       "    <tr>\n",
       "      <th>1</th>\n",
       "      <td>456</td>\n",
       "      <td>Banana</td>\n",
       "      <td>NaN</td>\n",
       "    </tr>\n",
       "    <tr>\n",
       "      <th>2</th>\n",
       "      <td>789</td>\n",
       "      <td>Cherry</td>\n",
       "      <td>B</td>\n",
       "    </tr>\n",
       "    <tr>\n",
       "      <th>3</th>\n",
       "      <td>1011</td>\n",
       "      <td>Lemon</td>\n",
       "      <td>NaN</td>\n",
       "    </tr>\n",
       "    <tr>\n",
       "      <th>4</th>\n",
       "      <td>1112</td>\n",
       "      <td>Peach</td>\n",
       "      <td>NaN</td>\n",
       "    </tr>\n",
       "  </tbody>\n",
       "</table>\n",
       "</div>"
      ],
      "text/plain": [
       "    Num   Fruit Grade\n",
       "0   123   Apple     A\n",
       "1   456  Banana   NaN\n",
       "2   789  Cherry     B\n",
       "3  1011   Lemon   NaN\n",
       "4  1112   Peach   NaN"
      ]
     },
     "execution_count": 9,
     "metadata": {},
     "output_type": "execute_result"
    }
   ],
   "source": [
    "pd.merge(fruit, grade, on = 'Num', how = 'left')"
   ]
  },
  {
   "cell_type": "code",
   "execution_count": 38,
   "metadata": {},
   "outputs": [
    {
     "name": "stdout",
     "output_type": "stream",
     "text": [
      "    Num   Fruit\n",
      "0   123   Apple\n",
      "1   456  Banana\n",
      "2   789  Cherry\n",
      "3  1011     NaN\n",
      "4  1112     NaN\n",
      "    Num   Fruit\n",
      "0   123   Apple\n",
      "1  7777    Pear\n",
      "2   456  Banana\n",
      "3   789  Cherry\n",
      "4  1011   Lemon\n",
      "5  1112   Peach\n"
     ]
    }
   ],
   "source": [
    "fruit = pd.DataFrame({'Num':[123, 456, 789, 1011, 1112], 'Fruit':['Apple', 'Banana', 'Cherry','0','0']})\n",
    "fruit = fruit.replace('0', np.NaN)\n",
    "fruit_list = pd.DataFrame({'Num':[123,7777,456,789, 1011, 1112], 'Fruit':['Apple', 'Pear','Banana', 'Cherry', 'Lemon', 'Peach']})\n",
    "\n",
    "print(fruit)\n",
    "print(fruit_list)"
   ]
  },
  {
   "cell_type": "code",
   "execution_count": 39,
   "metadata": {},
   "outputs": [
    {
     "name": "stdout",
     "output_type": "stream",
     "text": [
      "    Num   Fruit\n",
      "0   123   Apple\n",
      "1   456  Banana\n",
      "2   789  Cherry\n",
      "3  1011   Lemon\n",
      "4  1112   Peach\n"
     ]
    }
   ],
   "source": [
    "# 'Num' 열을 인덱스로 설정하지 않고, 'Num' 열에 대응되는 'fruit_list'의 'Fruit' 값을 가져옵니다. -> 성공\n",
    "fruit['Fruit'] = fruit['Fruit'].fillna(fruit['Num'].map(fruit_list.set_index('Num')['Fruit']))\n",
    "\n",
    "print(fruit)\n"
   ]
  },
  {
   "cell_type": "code",
   "execution_count": 29,
   "metadata": {},
   "outputs": [
    {
     "data": {
      "text/html": [
       "<div>\n",
       "<style scoped>\n",
       "    .dataframe tbody tr th:only-of-type {\n",
       "        vertical-align: middle;\n",
       "    }\n",
       "\n",
       "    .dataframe tbody tr th {\n",
       "        vertical-align: top;\n",
       "    }\n",
       "\n",
       "    .dataframe thead th {\n",
       "        text-align: right;\n",
       "    }\n",
       "</style>\n",
       "<table border=\"1\" class=\"dataframe\">\n",
       "  <thead>\n",
       "    <tr style=\"text-align: right;\">\n",
       "      <th></th>\n",
       "      <th>Num</th>\n",
       "      <th>Fruit_x</th>\n",
       "      <th>Fruit_y</th>\n",
       "    </tr>\n",
       "  </thead>\n",
       "  <tbody>\n",
       "    <tr>\n",
       "      <th>0</th>\n",
       "      <td>123</td>\n",
       "      <td>Apple</td>\n",
       "      <td>Apple</td>\n",
       "    </tr>\n",
       "    <tr>\n",
       "      <th>1</th>\n",
       "      <td>456</td>\n",
       "      <td>Banana</td>\n",
       "      <td>Banana</td>\n",
       "    </tr>\n",
       "    <tr>\n",
       "      <th>2</th>\n",
       "      <td>789</td>\n",
       "      <td>Cherry</td>\n",
       "      <td>Cherry</td>\n",
       "    </tr>\n",
       "    <tr>\n",
       "      <th>3</th>\n",
       "      <td>1011</td>\n",
       "      <td>NaN</td>\n",
       "      <td>Lemon</td>\n",
       "    </tr>\n",
       "    <tr>\n",
       "      <th>4</th>\n",
       "      <td>1112</td>\n",
       "      <td>NaN</td>\n",
       "      <td>Peach</td>\n",
       "    </tr>\n",
       "  </tbody>\n",
       "</table>\n",
       "</div>"
      ],
      "text/plain": [
       "    Num Fruit_x Fruit_y\n",
       "0   123   Apple   Apple\n",
       "1   456  Banana  Banana\n",
       "2   789  Cherry  Cherry\n",
       "3  1011     NaN   Lemon\n",
       "4  1112     NaN   Peach"
      ]
     },
     "execution_count": 29,
     "metadata": {},
     "output_type": "execute_result"
    }
   ],
   "source": [
    "pd.merge(fruit, fruit_list, on = 'Num', how = 'left')"
   ]
  },
  {
   "cell_type": "code",
   "execution_count": 30,
   "metadata": {},
   "outputs": [
    {
     "name": "stdout",
     "output_type": "stream",
     "text": [
      "    Num   Fruit\n",
      "0   123   Apple\n",
      "1   456  Banana\n",
      "2   789  Cherry\n",
      "3  1011  Cherry\n",
      "4  1112   Lemon\n"
     ]
    }
   ],
   "source": [
    "fruit['Fruit'] = fruit['Fruit'].combine_first(fruit_list['Fruit'])\n",
    "print(fruit)"
   ]
  },
  {
   "cell_type": "code",
   "execution_count": null,
   "metadata": {},
   "outputs": [],
   "source": [
    "fruit = pd.DataFrame({'Num':[123, 456, 789, 1011, 1112], 'Fruit':['Apple', 'Banana', 'Cherry','0','0']})\n",
    "fruit = fruit.replace('0', np.NaN)\n",
    "fruit_list = pd.DataFrame({'Num':[123,7777,456,789, 1011, 1112], 'Fruit':['Apple', 'Pear','Banana', 'Cherry', 'Lemon', 'Peach']})\n",
    "\n",
    "print(fruit)\n",
    "print(fruit_list)"
   ]
  },
  {
   "cell_type": "code",
   "execution_count": null,
   "metadata": {},
   "outputs": [],
   "source": [
    "# 두 데이터프레임을 'Num'과 'Num1' 열을 기준으로 병합\n",
    "merged = pd.merge(fruit, fruit_list, on=['Num', 'Num1'], how='left')\n",
    "\n",
    "# 병합된 데이터프레임에서 각 열의 NaN 값을 채움\n",
    "for column in merged.columns:\n",
    "    if column.endswith('_x'):\n",
    "        merged[column].fillna(merged[column.replace('_x', '_y')], inplace=True)\n",
    "\n",
    "# 불필요한 열 제거\n",
    "merged = merged[merged.columns.drop(list(merged.filter(regex='_y')))]\n",
    "\n",
    "# 열 이름 변경\n",
    "merged.columns = merged.columns.str.replace('_x', '')\n",
    "\n",
    "print(merged)\n"
   ]
  }
 ],
 "metadata": {
  "kernelspec": {
   "display_name": "stem",
   "language": "python",
   "name": "python3"
  },
  "language_info": {
   "codemirror_mode": {
    "name": "ipython",
    "version": 3
   },
   "file_extension": ".py",
   "mimetype": "text/x-python",
   "name": "python",
   "nbconvert_exporter": "python",
   "pygments_lexer": "ipython3",
   "version": "3.9.18"
  }
 },
 "nbformat": 4,
 "nbformat_minor": 2
}
